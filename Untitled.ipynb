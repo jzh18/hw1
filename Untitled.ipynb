{
 "cells": [
  {
   "cell_type": "code",
   "execution_count": 1,
   "id": "ea66ac86",
   "metadata": {},
   "outputs": [],
   "source": [
    "import numpy as np"
   ]
  },
  {
   "cell_type": "code",
   "execution_count": 21,
   "id": "be218d1e",
   "metadata": {},
   "outputs": [],
   "source": [
    "a=np.array([[[1.95]],\n",
    "\n",
    " [[2.7 ]],\n",
    "\n",
    " [[3.75]]])\n"
   ]
  },
  {
   "cell_type": "code",
   "execution_count": 22,
   "id": "db56c33e",
   "metadata": {},
   "outputs": [
    {
     "data": {
      "text/plain": [
       "(3, 1, 1)"
      ]
     },
     "execution_count": 22,
     "metadata": {},
     "output_type": "execute_result"
    }
   ],
   "source": [
    "a.shape"
   ]
  },
  {
   "cell_type": "code",
   "execution_count": 24,
   "id": "605bce04",
   "metadata": {},
   "outputs": [
    {
     "data": {
      "text/plain": [
       "(3, 1, 1)"
      ]
     },
     "execution_count": 24,
     "metadata": {},
     "output_type": "execute_result"
    }
   ],
   "source": [
    "np.transpose(a,(0,1,2)).shape"
   ]
  },
  {
   "cell_type": "code",
   "execution_count": 16,
   "id": "6227e2cf",
   "metadata": {},
   "outputs": [
    {
     "data": {
      "text/plain": [
       "(0, 1)"
      ]
     },
     "execution_count": 16,
     "metadata": {},
     "output_type": "execute_result"
    }
   ],
   "source": [
    "tuple(range(0,2))"
   ]
  },
  {
   "cell_type": "code",
   "execution_count": 18,
   "id": "2ae082b7",
   "metadata": {},
   "outputs": [],
   "source": [
    "axes=[0,1,2]\n",
    "b=(2,1)\n",
    "\n",
    "axes[b[0]]=b[1]\n",
    "axes[b[1]]=b[0]\n"
   ]
  },
  {
   "cell_type": "code",
   "execution_count": 19,
   "id": "bc617430",
   "metadata": {},
   "outputs": [
    {
     "data": {
      "text/plain": [
       "[0, 2, 1]"
      ]
     },
     "execution_count": 19,
     "metadata": {},
     "output_type": "execute_result"
    }
   ],
   "source": [
    "axes"
   ]
  },
  {
   "cell_type": "code",
   "execution_count": 25,
   "id": "86316934",
   "metadata": {},
   "outputs": [],
   "source": [
    "a=np.array([[[[0.4 , 0.05],\n",
    "             [2.95, 1.3 ]],\n",
    "            [[4.8 , 1.2 ],\n",
    "             [1.65, 3.1 ]]],\n",
    "           [[[1.45, 3.05],\n",
    "             [2.25, 0.1 ]],\n",
    "            [[0.45, 4.75],\n",
    "             [1.5 , 1.8 ]]],\n",
    "           [[[1.5 , 4.65],\n",
    "             [1.35, 2.7 ]],\n",
    "            [[2.  , 1.65],\n",
    "             [2.05, 1.2 ]]]])"
   ]
  },
  {
   "cell_type": "code",
   "execution_count": 33,
   "id": "bba89993",
   "metadata": {},
   "outputs": [
    {
     "data": {
      "text/plain": [
       "array([[[[0.4 , 2.95],\n",
       "         [0.05, 1.3 ]],\n",
       "\n",
       "        [[4.8 , 1.65],\n",
       "         [1.2 , 3.1 ]]],\n",
       "\n",
       "\n",
       "       [[[1.45, 2.25],\n",
       "         [3.05, 0.1 ]],\n",
       "\n",
       "        [[0.45, 1.5 ],\n",
       "         [4.75, 1.8 ]]],\n",
       "\n",
       "\n",
       "       [[[1.5 , 1.35],\n",
       "         [4.65, 2.7 ]],\n",
       "\n",
       "        [[2.  , 2.05],\n",
       "         [1.65, 1.2 ]]]])"
      ]
     },
     "execution_count": 33,
     "metadata": {},
     "output_type": "execute_result"
    }
   ],
   "source": [
    "np.transpose(a,(0,1,3,2))"
   ]
  },
  {
   "cell_type": "code",
   "execution_count": 26,
   "id": "4f79a67a",
   "metadata": {},
   "outputs": [],
   "source": [
    "b=np.array([[[[0.4 , 2.95],\n",
    "             [0.05, 1.3 ]],\n",
    "            [[4.8 , 1.65],\n",
    "             [1.2 , 3.1 ]]],\n",
    "           [[[1.45, 2.25],\n",
    "             [3.05, 0.1 ]],\n",
    "            [[0.45, 1.5 ],\n",
    "             [4.75, 1.8 ]]],\n",
    "           [[[1.5 , 1.35],\n",
    "             [4.65, 2.7 ]],\n",
    "            [[2.  , 2.05],\n",
    "             [1.65, 1.2 ]]]])"
   ]
  },
  {
   "cell_type": "code",
   "execution_count": 27,
   "id": "3d7bdd66",
   "metadata": {},
   "outputs": [
    {
     "ename": "AssertionError",
     "evalue": "\nNot equal to tolerance rtol=1e-07, atol=0\n\nMismatched elements: 12 / 24 (50%)\nMax absolute difference: 3.3\nMax relative difference: 58.\n x: array([[[[0.4 , 0.05],\n         [2.95, 1.3 ]],\n...\n y: array([[[[0.4 , 2.95],\n         [0.05, 1.3 ]],\n...",
     "output_type": "error",
     "traceback": [
      "\u001b[0;31m---------------------------------------------------------------------------\u001b[0m",
      "\u001b[0;31mAssertionError\u001b[0m                            Traceback (most recent call last)",
      "Input \u001b[0;32mIn [27]\u001b[0m, in \u001b[0;36m<cell line: 1>\u001b[0;34m()\u001b[0m\n\u001b[0;32m----> 1\u001b[0m \u001b[43mnp\u001b[49m\u001b[38;5;241;43m.\u001b[39;49m\u001b[43mtesting\u001b[49m\u001b[38;5;241;43m.\u001b[39;49m\u001b[43massert_allclose\u001b[49m\u001b[43m(\u001b[49m\u001b[43ma\u001b[49m\u001b[43m,\u001b[49m\u001b[43mb\u001b[49m\u001b[43m)\u001b[49m\n",
      "    \u001b[0;31m[... skipping hidden 1 frame]\u001b[0m\n",
      "File \u001b[0;32m~/opt/anaconda3/envs/mlsys_homework/lib/python3.8/site-packages/numpy/testing/_private/utils.py:844\u001b[0m, in \u001b[0;36massert_array_compare\u001b[0;34m(comparison, x, y, err_msg, verbose, header, precision, equal_nan, equal_inf)\u001b[0m\n\u001b[1;32m    840\u001b[0m         err_msg \u001b[38;5;241m+\u001b[39m\u001b[38;5;241m=\u001b[39m \u001b[38;5;124m'\u001b[39m\u001b[38;5;130;01m\\n\u001b[39;00m\u001b[38;5;124m'\u001b[39m \u001b[38;5;241m+\u001b[39m \u001b[38;5;124m'\u001b[39m\u001b[38;5;130;01m\\n\u001b[39;00m\u001b[38;5;124m'\u001b[39m\u001b[38;5;241m.\u001b[39mjoin(remarks)\n\u001b[1;32m    841\u001b[0m         msg \u001b[38;5;241m=\u001b[39m build_err_msg([ox, oy], err_msg,\n\u001b[1;32m    842\u001b[0m                             verbose\u001b[38;5;241m=\u001b[39mverbose, header\u001b[38;5;241m=\u001b[39mheader,\n\u001b[1;32m    843\u001b[0m                             names\u001b[38;5;241m=\u001b[39m(\u001b[38;5;124m'\u001b[39m\u001b[38;5;124mx\u001b[39m\u001b[38;5;124m'\u001b[39m, \u001b[38;5;124m'\u001b[39m\u001b[38;5;124my\u001b[39m\u001b[38;5;124m'\u001b[39m), precision\u001b[38;5;241m=\u001b[39mprecision)\n\u001b[0;32m--> 844\u001b[0m         \u001b[38;5;28;01mraise\u001b[39;00m \u001b[38;5;167;01mAssertionError\u001b[39;00m(msg)\n\u001b[1;32m    845\u001b[0m \u001b[38;5;28;01mexcept\u001b[39;00m \u001b[38;5;167;01mValueError\u001b[39;00m:\n\u001b[1;32m    846\u001b[0m     \u001b[38;5;28;01mimport\u001b[39;00m \u001b[38;5;21;01mtraceback\u001b[39;00m\n",
      "\u001b[0;31mAssertionError\u001b[0m: \nNot equal to tolerance rtol=1e-07, atol=0\n\nMismatched elements: 12 / 24 (50%)\nMax absolute difference: 3.3\nMax relative difference: 58.\n x: array([[[[0.4 , 0.05],\n         [2.95, 1.3 ]],\n...\n y: array([[[[0.4 , 2.95],\n         [0.05, 1.3 ]],\n..."
     ]
    }
   ],
   "source": [
    "np.testing.assert_allclose(a,b)"
   ]
  },
  {
   "cell_type": "code",
   "execution_count": null,
   "id": "1181011a",
   "metadata": {},
   "outputs": [],
   "source": []
  }
 ],
 "metadata": {
  "kernelspec": {
   "display_name": "Python 3 (ipykernel)",
   "language": "python",
   "name": "python3"
  },
  "language_info": {
   "codemirror_mode": {
    "name": "ipython",
    "version": 3
   },
   "file_extension": ".py",
   "mimetype": "text/x-python",
   "name": "python",
   "nbconvert_exporter": "python",
   "pygments_lexer": "ipython3",
   "version": "3.8.13"
  }
 },
 "nbformat": 4,
 "nbformat_minor": 5
}
